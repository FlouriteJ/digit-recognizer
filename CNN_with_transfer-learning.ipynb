{
 "cells": [
  {
   "cell_type": "code",
   "execution_count": null,
   "metadata": {},
   "outputs": [],
   "source": [
    "import numpy as np\n",
    "import matplotlib.pyplot as plt\n",
    "%matplotlib inline\n",
    "from keras.models import Sequential,Model\n",
    "from keras.layers import Dense, Dropout, Flatten, Conv2D, MaxPool2D, BatchNormalization,GlobalAveragePooling2D\n",
    "from keras.optimizers import Adam\n",
    "from keras.utils.np_utils import to_categorical # convert to one-hot-encoding\n",
    "from sklearn.model_selection import train_test_split\n",
    "from sklearn.metrics import confusion_matrix\n",
    "from keras.preprocessing.image import ImageDataGenerator\n",
    "from keras.callbacks import LearningRateScheduler\n",
    "from keras import backend as K\n",
    "from scipy.io import loadmat\n",
    "from keras.models import load_model\n",
    "\n",
    "from keras.applications.inception_v3 import InceptionV3,preprocess_input"
   ]
  },
  {
   "cell_type": "code",
   "execution_count": null,
   "metadata": {},
   "outputs": [],
   "source": [
    "train_dir = \"./train\"\n",
    "dev_dir = \"./dev\"\n",
    "test_dir = \"./testdata\"\n",
    "output_file = \"./output/submission.csv\"\n",
    "test_file = \"./input/test.csv\""
   ]
  },
  {
   "cell_type": "code",
   "execution_count": null,
   "metadata": {},
   "outputs": [],
   "source": [
    "train_datagen = ImageDataGenerator(\n",
    "    preprocessing_function=preprocess_input, #归一化到±1之间\n",
    "    rotation_range=10,\n",
    "    width_shift_range=0.1,\n",
    "    height_shift_range=0.1,\n",
    "    shear_range=0.1,\n",
    "    zoom_range=0.1,\n",
    "    horizontal_flip=False,\n",
    ")\n",
    "dev_datagen = ImageDataGenerator(\n",
    "    preprocessing_function=preprocess_input, #归一化到±1之间\n",
    "    rotation_range=10,\n",
    "    width_shift_range=0.1,\n",
    "    height_shift_range=0.1,\n",
    "    shear_range=0.1,\n",
    "    zoom_range=0.1,\n",
    "    horizontal_flip=False,\n",
    ")"
   ]
  },
  {
   "cell_type": "code",
   "execution_count": null,
   "metadata": {},
   "outputs": [],
   "source": [
    "train_generator = train_datagen.flow_from_directory(directory=train_dir,\n",
    "                                  target_size=(299,299),#Inception V3规定大小\n",
    "                                  batch_size=64,\n",
    "                                  class_mode='categorical')\n",
    "dev_generator = dev_datagen.flow_from_directory(directory=dev_dir,\n",
    "                                target_size=(299,299),\n",
    "                                batch_size=64,\n",
    "                                class_mode='categorical')"
   ]
  },
  {
   "cell_type": "code",
   "execution_count": null,
   "metadata": {},
   "outputs": [],
   "source": [
    "base_model = InceptionV3(weights='imagenet',include_top=False)"
   ]
  },
  {
   "cell_type": "code",
   "execution_count": null,
   "metadata": {},
   "outputs": [],
   "source": [
    "x = base_model.output\n",
    "x = GlobalAveragePooling2D()(x) # GlobalAveragePooling2D 将 MxNxC 的张量转换成 1xC 张量，C是通道数\n",
    "x = Dense(1024,activation='relu')(x)\n",
    "predictions = Dense(10,activation='softmax')(x)\n",
    "model = Model(inputs=base_model.input,outputs=predictions)"
   ]
  },
  {
   "cell_type": "code",
   "execution_count": null,
   "metadata": {},
   "outputs": [],
   "source": [
    "def setup_to_transfer_learning(model,base_model):#base_model\n",
    "    for layer in base_model.layers:\n",
    "        layer.trainable = False\n",
    "    model.compile(optimizer='adam',loss='categorical_crossentropy',metrics=['accuracy'])\n",
    "\n",
    "def setup_to_fine_tune(model,base_model):\n",
    "    GAP_LAYER = 17 # max_pooling_2d_2\n",
    "    for layer in base_model.layers[:GAP_LAYER+1]:\n",
    "        layer.trainable = False\n",
    "    for layer in base_model.layers[GAP_LAYER+1:]:\n",
    "        layer.trainable = True\n",
    "    model.compile(optimizer=Adam(lr=0.0001),loss='categorical_crossentropy',metrics=['accuracy'])"
   ]
  },
  {
   "cell_type": "code",
   "execution_count": null,
   "metadata": {},
   "outputs": [],
   "source": [
    "setup_to_transfer_learning(model,base_model)\n",
    "history = model.fit_generator(generator=train_generator,\n",
    "                    steps_per_epoch=800,\n",
    "                    epochs=15,\n",
    "                    verbose=1,# 0 = silent, 1 = progress bar, 2 = one line per epoch.\n",
    "                    validation_data=dev_generator,\n",
    "                    )"
   ]
  },
  {
   "cell_type": "code",
   "execution_count": null,
   "metadata": {},
   "outputs": [],
   "source": [
    "setup_to_fine_tune(model,base_model)\n",
    "history = model.fit_generator(generator=train_generator,\n",
    "                    steps_per_epoch=800,\n",
    "                    epochs=10,\n",
    "                    verbose=1,# 0 = silent, 1 = progress bar, 2 = one line per epoch.\n",
    "                    validation_data=dev_generator,\n",
    "                    )"
   ]
  },
  {
   "cell_type": "code",
   "execution_count": null,
   "metadata": {},
   "outputs": [],
   "source": [
    "setup_to_fine_tune(model,base_model)\n",
    "history = model.fit_generator(generator=train_generator,\n",
    "                    steps_per_epoch=800,\n",
    "                    epochs=10,\n",
    "                    verbose=1,# 0 = silent, 1 = progress bar, 2 = one line per epoch.\n",
    "                    validation_data=dev_generator,\n",
    "                    )"
   ]
  },
  {
   "cell_type": "code",
   "execution_count": null,
   "metadata": {},
   "outputs": [],
   "source": [
    "model.save('./digits_iv3_t0.h5')"
   ]
  },
  {
   "cell_type": "code",
   "execution_count": null,
   "metadata": {},
   "outputs": [],
   "source": [
    "plt.plot(history.history['loss'], color='b')\n",
    "plt.plot(history.history['val_loss'], color='r')\n",
    "plt.show()\n",
    "plt.plot(history.history['acc'], color='b')\n",
    "plt.plot(history.history['val_acc'], color='r')\n",
    "plt.show()"
   ]
  },
  {
   "cell_type": "code",
   "execution_count": null,
   "metadata": {},
   "outputs": [],
   "source": [
    "mnist_testset = np.loadtxt(test_file, skiprows=1, dtype='int', delimiter=',')\n",
    "x_test = mnist_testset.astype(\"float32\")"
   ]
  },
  {
   "cell_type": "code",
   "execution_count": null,
   "metadata": {},
   "outputs": [],
   "source": [
    "test_datagen = ImageDataGenerator(\n",
    "    preprocessing_function=preprocess_input\n",
    ")\n",
    "test_generator = test_datagen.flow_from_directory(directory=test_dir,\n",
    "                                  target_size=(299,299),#Inception V3规定大小\n",
    "                                  batch_size=64,\n",
    "                                  shuffle=False,\n",
    "                                  class_mode=None)"
   ]
  },
  {
   "cell_type": "code",
   "execution_count": null,
   "metadata": {},
   "outputs": [],
   "source": [
    "y_hat = model.predict_generator(test_generator,verbose=1)\n",
    "y_pred = np.argmax(y_hat,axis=1)"
   ]
  },
  {
   "cell_type": "code",
   "execution_count": null,
   "metadata": {},
   "outputs": [],
   "source": [
    "y_pred"
   ]
  },
  {
   "cell_type": "code",
   "execution_count": null,
   "metadata": {},
   "outputs": [],
   "source": [
    "import cv2\n",
    "check = 0\n",
    "fig, ax = plt.subplots(1, 1, figsize=(6,6))\n",
    "ax.imshow(x_test[check].reshape(28,28),cmap='gray')\n",
    "ax.set_title('28x28 data')\n",
    "print(y_pred[check])\n",
    "#path = \"./testdata/test/test/test_\"+(str(check)).zfill(7) + \".jpg\""
   ]
  },
  {
   "cell_type": "code",
   "execution_count": null,
   "metadata": {},
   "outputs": [],
   "source": [
    "with open(output_file, 'w') as f :\n",
    "    f.write('ImageId,Label\\n')\n",
    "    for i in range(len(y_pred)) :\n",
    "        f.write(\"\".join([str(i+1),',',str(y_pred[i]),'\\n']))"
   ]
  }
 ],
 "metadata": {
  "kernelspec": {
   "display_name": "Python 3",
   "language": "python",
   "name": "python3"
  },
  "language_info": {
   "codemirror_mode": {
    "name": "ipython",
    "version": 3
   },
   "file_extension": ".py",
   "mimetype": "text/x-python",
   "name": "python",
   "nbconvert_exporter": "python",
   "pygments_lexer": "ipython3",
   "version": "3.5.2"
  }
 },
 "nbformat": 4,
 "nbformat_minor": 2
}
